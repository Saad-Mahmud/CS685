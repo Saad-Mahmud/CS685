{
 "cells": [
  {
   "cell_type": "code",
   "execution_count": 1,
   "id": "a0df15c2",
   "metadata": {},
   "outputs": [
    {
     "name": "stderr",
     "output_type": "stream",
     "text": [
      "/home/saad/anaconda3/envs/cleanrl/lib/python3.9/site-packages/transformers/utils/generic.py:481: UserWarning: torch.utils._pytree._register_pytree_node is deprecated. Please use torch.utils._pytree.register_pytree_node instead.\n",
      "  _torch_pytree._register_pytree_node(\n",
      "/home/saad/anaconda3/envs/cleanrl/lib/python3.9/site-packages/transformers/utils/generic.py:338: UserWarning: torch.utils._pytree._register_pytree_node is deprecated. Please use torch.utils._pytree.register_pytree_node instead.\n",
      "  _torch_pytree._register_pytree_node(\n",
      "/home/saad/anaconda3/envs/cleanrl/lib/python3.9/site-packages/torch/cuda/__init__.py:619: UserWarning: Can't initialize NVML\n",
      "  warnings.warn(\"Can't initialize NVML\")\n",
      "/home/saad/anaconda3/envs/cleanrl/lib/python3.9/site-packages/torch/cuda/__init__.py:749: UserWarning: CUDA initialization: Unexpected error from cudaGetDeviceCount(). Did you run some cuda functions before calling NumCudaDevices() that might have already set an error? Error 804: forward compatibility was attempted on non supported HW (Triggered internally at ../c10/cuda/CUDAFunctions.cpp:108.)\n",
      "  return torch._C._cuda_getDeviceCount() if nvml_count < 0 else nvml_count\n",
      "/home/saad/anaconda3/envs/cleanrl/lib/python3.9/site-packages/transformers/utils/generic.py:338: UserWarning: torch.utils._pytree._register_pytree_node is deprecated. Please use torch.utils._pytree.register_pytree_node instead.\n",
      "  _torch_pytree._register_pytree_node(\n"
     ]
    }
   ],
   "source": [
    "from transformers import LlamaForCausalLM, LlamaConfig\n",
    "from transformers.modeling_outputs import CausalLMOutputWithCrossAttentions\n",
    "from datasets import Dataset\n",
    "import torch\n",
    "import h5py\n",
    "import pickle\n",
    "import numpy as np\n",
    "from datagen.tokens import GLOBAL_TOKENS_MAP, GLOBAL_TOKENS_RMAP\n",
    "from transformers import Trainer, TrainingArguments\n",
    "from torch.utils.data import DataLoader\n",
    "from transformers import default_data_collator\n",
    "import torch\n",
    "from tqdm import tqdm\n",
    "from transformers import Trainer, TrainingArguments"
   ]
  },
  {
   "cell_type": "code",
   "execution_count": 3,
   "id": "4d2af902",
   "metadata": {},
   "outputs": [
    {
     "name": "stdout",
     "output_type": "stream",
     "text": [
      "Total parameters in the model: 6076400\n"
     ]
    }
   ],
   "source": [
    "configuration = RecurrentGemmaConfig(num_hidden_layers = 8,\n",
    "                                    hidden_size = 64,\n",
    "                                    vocab_size = 32)\n",
    "\n",
    "# Initializing a model from the recurrentgemma-2b style configuration\n",
    "model = RecurrentGemmaModel(configuration)\n",
    "\n",
    "# Accessing the model configuration\n",
    "configuration = model.config\n",
    "# Calculate the number of parameters\n",
    "print(f\"Total parameters in the model: {model.num_parameters()}\")"
   ]
  },
  {
   "cell_type": "code",
   "execution_count": 4,
   "id": "39fd2dca",
   "metadata": {},
   "outputs": [],
   "source": [
    "from transformers import JambaForCausalLM, JambaConfig"
   ]
  },
  {
   "cell_type": "code",
   "execution_count": null,
   "id": "17bdedc7",
   "metadata": {},
   "outputs": [],
   "source": []
  }
 ],
 "metadata": {
  "kernelspec": {
   "display_name": "cleanrl",
   "language": "python",
   "name": "cleanrl"
  },
  "language_info": {
   "codemirror_mode": {
    "name": "ipython",
    "version": 3
   },
   "file_extension": ".py",
   "mimetype": "text/x-python",
   "name": "python",
   "nbconvert_exporter": "python",
   "pygments_lexer": "ipython3",
   "version": "3.9.12"
  }
 },
 "nbformat": 4,
 "nbformat_minor": 5
}
